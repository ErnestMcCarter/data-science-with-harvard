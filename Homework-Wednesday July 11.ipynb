{
 "cells": [
  {
   "cell_type": "code",
   "execution_count": 12,
   "metadata": {},
   "outputs": [
    {
     "name": "stdout",
     "output_type": "stream",
     "text": [
      "3\n"
     ]
    }
   ],
   "source": [
    "#1. Define a function maxOfThree() that takes three numbers as arguments and returns the largest of them.\n",
    "def maxOfThree(a, b, c):\n",
    "    if (a > b) and (a > c):\n",
    "        return a\n",
    "    elif (b > a) and (b > c):\n",
    "        return b\n",
    "    elif (c > a) and (c > b):\n",
    "        return c\n",
    "print maxOfThree(1,2,3)"
   ]
  },
  {
   "cell_type": "code",
   "execution_count": 11,
   "metadata": {},
   "outputs": [
    {
     "name": "stdout",
     "output_type": "stream",
     "text": [
      "True\n"
     ]
    }
   ],
   "source": [
    "#2. Write a function that takes a character (i.e. a string of length 1) and returns True if it is a vowel, \n",
    "#False otherwise\n",
    "def vowelFinder(d):\n",
    "    if (d == \"a\") or (d == \"e\") or (d == \"i\") or (d == \"o\") or (d == \"u\") or (d == \"y\"):\n",
    "        return True\n",
    "    else:\n",
    "        return False\n",
    "print vowelFinder(\"a\")"
   ]
  },
  {
   "cell_type": "code",
   "execution_count": 31,
   "metadata": {},
   "outputs": [],
   "source": [
    "#3. Define a function isPalindrome() that recognizes palindromes (i.e. words that look the same written backwards). For\n",
    "#example, isPalindrome(“radar”) should return True.\n",
    "def isPalindrome(e):\n",
    "    if (len(e) % 2) == 1:\n",
    "        f = (len(e) - 1)/2\n",
    "        g = e.split(e[f])\n",
    "        h = g[1]\n",
    "        if h[::-1] == g[0]:\n",
    "            return True\n",
    "    elif (len(e) % 2) == 0:\n",
    "        i = len(e)/2\n",
    "        j = e[i:(len(e)+1)]\n",
    "        k = e[0:i]\n",
    "        if j[::-1] == k:\n",
    "            return True\n",
    "    else:\n",
    "        return False\n",
    "        \n",
    "isPalindrome(\"fast\")"
   ]
  },
  {
   "cell_type": "code",
   "execution_count": 60,
   "metadata": {},
   "outputs": [
    {
     "name": "stdout",
     "output_type": "stream",
     "text": [
      "21\n",
      "720\n"
     ]
    }
   ],
   "source": [
    "#4. Define a function sum() and a function multiply() that sums and multiplies (respectively) all the numbers in a list of\n",
    "#numbers. For example, sum([1, 2, 3, 4]) should return 10, and multiply([1, 2, 3, 4]) should return 24.\n",
    "def sum(l):\n",
    "    n = 0\n",
    "    for m in range(len(l)):\n",
    "        n = n + l[m]\n",
    "    return n\n",
    "\n",
    "def multiply(o):\n",
    "    p = 1\n",
    "    for q in range(len(o)):\n",
    "        p = p * o[q]\n",
    "    return p\n",
    "\n",
    "print sum([1,2,3,4,5,6])\n",
    "print multiply([1,2,3,4,5,6])"
   ]
  },
  {
   "cell_type": "code",
   "execution_count": 83,
   "metadata": {},
   "outputs": [
    {
     "name": "stdout",
     "output_type": "stream",
     "text": [
      "ccc\n"
     ]
    }
   ],
   "source": [
    "#5. Write a function findLongestWord() that takes a list of words and returns the length of the longest one\n",
    "#convert words into dictionary, their key will be their length and sort by length\n",
    "def findLongestWord(r):\n",
    "    s = {}\n",
    "    for t in range(len(r)):\n",
    "        s[len(r[t])] = r[t]\n",
    "    u = s.keys()\n",
    "    return s[len(s)]\n",
    "\n",
    "print findLongestWord([\"ccc\", \"a\", \"bb\"])"
   ]
  },
  {
   "cell_type": "code",
   "execution_count": 141,
   "metadata": {},
   "outputs": [
    {
     "name": "stdout",
     "output_type": "stream",
     "text": [
      "Caesar cipher? I much prefer Caesar salad!\n",
      "Pnrfne pvcure? V zhpu cersre Pnrfne fnynq!\n"
     ]
    }
   ],
   "source": [
    "#Your task in this exercise is to implement an encoder/decoder of ROT-13. Once you’re done, you will be able to read the\n",
    "#following secret message:\n",
    "#Pnrfne pvcure? V zhpu cersre Pnrfne fnynq!\n",
    "\n",
    "key = {'a':'n', 'b':'o', 'c':'p', 'd':'q', 'e':'r', 'f':'s', 'g':'t', 'h':'u',\n",
    "'i':'v', 'j':'w', 'k':'x', 'l':'y', 'm':'z', 'n':'a', 'o':'b', 'p':'c',\n",
    "'q':'d', 'r':'e', 's':'f', 't':'g', 'u':'h', 'v':'i', 'w':'j', 'x':'k',\n",
    "'y':'l', 'z':'m', 'A':'N', 'B':'O', 'C':'P', 'D':'Q', 'E':'R', 'F':'S',\n",
    "'G':'T', 'H':'U', 'I':'V', 'J':'W', 'K':'X', 'L':'Y', 'M':'Z', 'N':'A',\n",
    "'O':'B', 'P':'C', 'Q':'D', 'R':'E', 'S':'F', 'T':'G', 'U':'H', 'V':'I',\n",
    "'W':'J', 'X':'K', 'Y':'L', 'Z':'M'}\n",
    "\n",
    "code = \"Pnrfne pvcure? V zhpu cersre Pnrfne fnynq!\"\n",
    "message = \"Caesar cipher? I much prefer Caesar salad!\"\n",
    "\n",
    "def coder(u, w):\n",
    "    decoded = \"\"\n",
    "    for v in range(len(u)):\n",
    "        if (u[v] != \" \") and (u[v] != \"?\") and (u[v] != \"!\"):\n",
    "            decoded = decoded + w.get(u[v])\n",
    "        elif u[v] == \" \":\n",
    "            decoded = decoded + \" \"\n",
    "        elif u[v] == \"?\":\n",
    "            decoded = decoded + \"?\"\n",
    "        elif u[v] == \"!\":\n",
    "            decoded = decoded + \"!\"\n",
    "    print decoded\n",
    "\n",
    "    \n",
    "coder(code, key)    \n",
    "coder(message, key)"
   ]
  },
  {
   "cell_type": "code",
   "execution_count": null,
   "metadata": {},
   "outputs": [],
   "source": []
  },
  {
   "cell_type": "code",
   "execution_count": null,
   "metadata": {},
   "outputs": [],
   "source": []
  }
 ],
 "metadata": {
  "kernelspec": {
   "display_name": "Python 2",
   "language": "python",
   "name": "python2"
  },
  "language_info": {
   "codemirror_mode": {
    "name": "ipython",
    "version": 2
   },
   "file_extension": ".py",
   "mimetype": "text/x-python",
   "name": "python",
   "nbconvert_exporter": "python",
   "pygments_lexer": "ipython2",
   "version": "2.7.15"
  }
 },
 "nbformat": 4,
 "nbformat_minor": 2
}
