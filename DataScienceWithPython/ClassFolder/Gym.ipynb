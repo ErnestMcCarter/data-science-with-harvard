{
 "cells": [
  {
   "cell_type": "code",
   "execution_count": 2,
   "metadata": {},
   "outputs": [],
   "source": [
    "import os\n",
    "import pandas as pd\n",
    "import numpy as np\n",
    "import seaborn as sb\n",
    "import matplotlib.pyplot as plt\n",
    "\n",
    "dataFile = os.path.join('./DataFolder/iris.csv')\n",
    "iris = pd.read_csv(dataFile)\n",
    "\n",
    "iris = iris.rename(columns={'pedal_length':'petal_length','pedal_width':'petal_width'})\n"
   ]
  },
  {
   "cell_type": "code",
   "execution_count": 3,
   "metadata": {},
   "outputs": [
    {
     "data": {
      "text/plain": [
       "<matplotlib.axes._subplots.AxesSubplot at 0x1a16906810>"
      ]
     },
     "execution_count": 3,
     "metadata": {},
     "output_type": "execute_result"
    },
    {
     "data": {
      "image/png": "[encoded data removed]",
      "text/plain": [
       "<Figure size 432x288 with 1 Axes>"
      ]
     },
     "metadata": {},
     "output_type": "display_data"
    }
   ],
   "source": [
    "sepalSize = iris.sepal_length * iris.sepal_width\n",
    "petalSize = iris.petal_length * iris.petal_width\n",
    "\n",
    "\n",
    "iris['sepal_size'] = sepalSize\n",
    "iris['petal_size'] = petalSize\n",
    "\n",
    "iris.plot(kind='scatter',x='sepal_size',y='petal_size')"
   ]
  },
  {
   "cell_type": "code",
   "execution_count": 11,
   "metadata": {},
   "outputs": [
    {
     "name": "stdout",
     "output_type": "stream",
     "text": [
      "0.352489687213\n"
     ]
    }
   ],
   "source": [
    "nameList = np.unique(iris['class'])\n",
    "\n",
    "columnList = ['sepal_length','sepal_width','petal_length','petal_width']\n",
    "\n",
    "meanDict = {}\n",
    "stdDict = {}\n",
    "\n",
    "for i in columnList:\n",
    "    for j in nameList:\n",
    "        meanDict[str(i + j + 'Mean')] = iris.loc[iris['class']==j,i].mean()\n",
    "        stdDict[str(i + j + 'Std')] = iris.loc[iris['class']==j,i].std()\n",
    "        \n",
    "meanDictKeys = meanDict.keys()\n",
    "stdDictKeys = stdDict.keys()\n",
    "meanDictValues = meanDict.values()\n",
    "stdDictValues = stdDict.values()\n",
    "\n",
    "print stdDict.get('sepal_lengthIris-setosaStd')\n",
    "\n",
    "#def predictor (sepL,sepW,petL,petW):\n",
    "    \n",
    "    "
   ]
  },
  {
   "cell_type": "code",
   "execution_count": null,
   "metadata": {},
   "outputs": [],
   "source": []
  },
  {
   "cell_type": "code",
   "execution_count": null,
   "metadata": {},
   "outputs": [],
   "source": []
  }
 ],
 "metadata": {
  "kernelspec": {
   "display_name": "Python 2",
   "language": "python",
   "name": "python2"
  },
  "language_info": {
   "codemirror_mode": {
    "name": "ipython",
    "version": 2
   },
   "file_extension": ".py",
   "mimetype": "text/x-python",
   "name": "python",
   "nbconvert_exporter": "python",
   "pygments_lexer": "ipython2",
   "version": "2.7.15"
  }
 },
 "nbformat": 4,
 "nbformat_minor": 2
}
