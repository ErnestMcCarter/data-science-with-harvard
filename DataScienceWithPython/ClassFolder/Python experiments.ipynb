{
 "cells": [
  {
   "cell_type": "code",
   "execution_count": 34,
   "metadata": {},
   "outputs": [
    {
     "name": "stdout",
     "output_type": "stream",
     "text": [
      "[nan, nan, 0]\n"
     ]
    },
    {
     "data": {
      "text/plain": [
       "'def flowerPredictor(sepL,sepW,petL,petW):\\n    sepS = sepL * sepW\\n    petS = petL * petW'"
      ]
     },
     "execution_count": 34,
     "metadata": {},
     "output_type": "execute_result"
    }
   ],
   "source": [
    "import os\n",
    "import matplotlib as plt\n",
    "import numpy as np\n",
    "import pandas as pd\n",
    "\n",
    "filename = os.path.join('./iris.csv')\n",
    "irisData = pd.read_csv(filename)\n",
    "\n",
    "irisData.rename(columns={'pedal_length':'petal_length', 'pedal_width':'petal_width'})\n",
    "\n",
    "flower = ['Iris-setosa','Iris-versicolor','Iris-virginica']\n",
    "\n",
    "sepL=[0,0,0]\n",
    "for i in range(2):\n",
    "    for j in flower:\n",
    "        sepLHold=irisData.loc[irisData['class']=='j', 'sepal_length']\n",
    "        sepL[i]=sepLHold.mean()\n",
    "        #sepW = irisData.loc[irisData['class']=='i', 'sepal_width']\n",
    "        #sepMean = (sepL*sepW).mean()\n",
    "\n",
    "print sepL\n",
    "sepalLengthSet = irisData.loc[irisData['class']=='Iris-setosa', 'sepal_length']\n",
    "sepalWidthSet = irisData.loc[irisData['class']=='Iris-setosa', 'sepal_width']\n",
    "sepalSizeSet = sepalLengthSet * sepalWidthSet\n",
    "\n",
    "petalLengthSet = irisData.loc[irisData['class']=='Iris-setosa', 'pedal_length']\n",
    "petalWidthSet = irisData.loc[irisData['class']=='Iris-setosa', 'pedal_width']\n",
    "petalSizeSet = petalLength * petalWidth\n",
    "\n",
    "\n",
    "\n",
    "\n",
    "\"\"\"def flowerPredictor(sepL,sepW,petL,petW):\n",
    "    sepS = sepL * sepW\n",
    "    petS = petL * petW\"\"\""
   ]
  },
  {
   "cell_type": "code",
   "execution_count": null,
   "metadata": {},
   "outputs": [],
   "source": []
  }
 ],
 "metadata": {
  "kernelspec": {
   "display_name": "Python 2",
   "language": "python",
   "name": "python2"
  },
  "language_info": {
   "codemirror_mode": {
    "name": "ipython",
    "version": 2
   },
   "file_extension": ".py",
   "mimetype": "text/x-python",
   "name": "python",
   "nbconvert_exporter": "python",
   "pygments_lexer": "ipython2",
   "version": "2.7.15"
  }
 },
 "nbformat": 4,
 "nbformat_minor": 2
}
