{
 "cells": [
  {
   "cell_type": "markdown",
   "metadata": {},
   "source": [
    "# Iris Class Prediction\n",
    "## Using a Neural Network to Predict Iris Class"
   ]
  },
  {
   "cell_type": "markdown",
   "metadata": {},
   "source": [
    "### Import Modules"
   ]
  },
  {
   "cell_type": "code",
   "execution_count": 1,
   "metadata": {},
   "outputs": [
    {
     "name": "stderr",
     "output_type": "stream",
     "text": [
      "/Users/ernie/anaconda2/lib/python2.7/site-packages/h5py/__init__.py:36: FutureWarning: Conversion of the second argument of issubdtype from `float` to `np.floating` is deprecated. In future, it will be treated as `np.float64 == np.dtype(float).type`.\n",
      "  from ._conv import register_converters as _register_converters\n",
      "Using TensorFlow backend.\n"
     ]
    }
   ],
   "source": [
    "import os\n",
    "import pandas as pd\n",
    "import numpy as np\n",
    "import matplotlib.pyplot as plt\n",
    "import math\n",
    "import keras\n",
    "\n",
    "from keras.models import Sequential\n",
    "from keras.layers import Dense, Activation, Dropout"
   ]
  },
  {
   "cell_type": "markdown",
   "metadata": {},
   "source": [
    "### Import Data and Convert to Data Frame"
   ]
  },
  {
   "cell_type": "code",
   "execution_count": 2,
   "metadata": {},
   "outputs": [
    {
     "name": "stderr",
     "output_type": "stream",
     "text": [
      "/Users/ernie/anaconda2/lib/python2.7/site-packages/ipykernel_launcher.py:3: FutureWarning: from_csv is deprecated. Please use read_csv(...) instead. Note that some of the default arguments are different, so please refer to the documentation for from_csv when changing your function calls\n",
      "  This is separate from the ipykernel package so we can avoid doing imports until\n"
     ]
    }
   ],
   "source": [
    "filename = os.path.join('./DataFolder/iris.csv') # path of data\n",
    "\n",
    "df = pd.DataFrame.from_csv(filename)\n"
   ]
  },
  {
   "cell_type": "markdown",
   "metadata": {},
   "source": [
    "### Convert Class Strings into Floats\n",
    "#### Export into new .csv"
   ]
  },
  {
   "cell_type": "code",
   "execution_count": 3,
   "metadata": {},
   "outputs": [],
   "source": [
    "def class_to_numeric(x):\n",
    "    if x=='Iris-setosa':\n",
    "        return 1\n",
    "    if x=='Iris-versicolor':\n",
    "        return 2\n",
    "    if x=='Iris-virginica':\n",
    "        return 3\n",
    "\n",
    "df['class_num'] = df['class'].apply(class_to_numeric)\n",
    "df\n",
    "\n",
    "df.to_csv('out.csv')"
   ]
  },
  {
   "cell_type": "markdown",
   "metadata": {},
   "source": [
    "### Make new Data Frame with Cleaned Dataset"
   ]
  },
  {
   "cell_type": "code",
   "execution_count": 4,
   "metadata": {},
   "outputs": [],
   "source": [
    "filename = os.path.join('./out.csv') # path of data\n",
    "df = pd.read_csv(filename)\n"
   ]
  },
  {
   "cell_type": "markdown",
   "metadata": {},
   "source": [
    "### Rename Columns"
   ]
  },
  {
   "cell_type": "code",
   "execution_count": 5,
   "metadata": {},
   "outputs": [],
   "source": [
    "df.columns = ['sepal_length','sepal_width','petal_length','petal_width','species','species_num']"
   ]
  },
  {
   "cell_type": "markdown",
   "metadata": {},
   "source": [
    "### Insert New Column for Petal Area"
   ]
  },
  {
   "cell_type": "code",
   "execution_count": 6,
   "metadata": {},
   "outputs": [],
   "source": [
    "area = df['petal_length'] * df['petal_width']\n",
    "df['petal_area'] = area\n"
   ]
  },
  {
   "cell_type": "markdown",
   "metadata": {},
   "source": [
    "### Split Data Frame into Input and Output Data Frames"
   ]
  },
  {
   "cell_type": "code",
   "execution_count": 7,
   "metadata": {},
   "outputs": [],
   "source": [
    "x_train = df.drop(columns=['species','species_num'])\n",
    "y_train = df\n",
    "y_train = y_train.drop(columns=['sepal_width','sepal_length','petal_length','petal_width','petal_area','species'])\n",
    "#y_train"
   ]
  },
  {
   "cell_type": "markdown",
   "metadata": {},
   "source": [
    "### Create Neural Network Structure"
   ]
  },
  {
   "cell_type": "code",
   "execution_count": 8,
   "metadata": {},
   "outputs": [],
   "source": [
    "\"\"\"\n",
    "Accuracy:\n",
    "First Activator: relu\n",
    "Second Activator: sigmoid\n",
    "Third Activator: linear\n",
    "Optimizer: adam\n",
    "Loss: mse\n",
    "\"\"\"\n",
    "\n",
    "model = Sequential()\n",
    "model.add(Dense(32, input_shape=(5,)))\n",
    "model.add(Activation('relu'))\n",
    "model.add(Dropout(0.25))\n",
    "model.add(Dense(250))\n",
    "model.add(Activation('sigmoid'))\n",
    "model.add(Dense(1))\n",
    "model.add(Activation('linear'))\n",
    "model.compile(optimizer='adam', loss='mse')"
   ]
  },
  {
   "cell_type": "markdown",
   "metadata": {},
   "source": [
    "### Train the Neural Network"
   ]
  },
  {
   "cell_type": "code",
   "execution_count": 9,
   "metadata": {},
   "outputs": [
    {
     "name": "stdout",
     "output_type": "stream",
     "text": [
      "Epoch 1/20\n",
      "150/150 [==============================] - 0s 2ms/step - loss: 3.9337\n",
      "Epoch 2/20\n",
      "150/150 [==============================] - 0s 68us/step - loss: 0.7980\n",
      "Epoch 3/20\n",
      "150/150 [==============================] - 0s 81us/step - loss: 0.4905\n",
      "Epoch 4/20\n",
      "150/150 [==============================] - 0s 77us/step - loss: 0.7047\n",
      "Epoch 5/20\n",
      "150/150 [==============================] - 0s 71us/step - loss: 0.4490\n",
      "Epoch 6/20\n",
      "150/150 [==============================] - 0s 62us/step - loss: 0.2515\n",
      "Epoch 7/20\n",
      "150/150 [==============================] - 0s 66us/step - loss: 0.1801\n",
      "Epoch 8/20\n",
      "150/150 [==============================] - 0s 80us/step - loss: 0.2376\n",
      "Epoch 9/20\n",
      "150/150 [==============================] - 0s 66us/step - loss: 0.1622\n",
      "Epoch 10/20\n",
      "150/150 [==============================] - 0s 86us/step - loss: 0.1282\n",
      "Epoch 11/20\n",
      "150/150 [==============================] - 0s 75us/step - loss: 0.1337\n",
      "Epoch 12/20\n",
      "150/150 [==============================] - 0s 82us/step - loss: 0.1034\n",
      "Epoch 13/20\n",
      "150/150 [==============================] - 0s 88us/step - loss: 0.1132\n",
      "Epoch 14/20\n",
      "150/150 [==============================] - 0s 85us/step - loss: 0.1003\n",
      "Epoch 15/20\n",
      "150/150 [==============================] - 0s 84us/step - loss: 0.1149\n",
      "Epoch 16/20\n",
      "150/150 [==============================] - 0s 68us/step - loss: 0.1206\n",
      "Epoch 17/20\n",
      "150/150 [==============================] - 0s 73us/step - loss: 0.1073\n",
      "Epoch 18/20\n",
      "150/150 [==============================] - 0s 63us/step - loss: 0.1184\n",
      "Epoch 19/20\n",
      "150/150 [==============================] - 0s 91us/step - loss: 0.1090\n",
      "Epoch 20/20\n",
      "150/150 [==============================] - 0s 67us/step - loss: 0.0992\n"
     ]
    },
    {
     "data": {
      "text/plain": [
       "<keras.callbacks.History at 0xb20058710>"
      ]
     },
     "execution_count": 9,
     "metadata": {},
     "output_type": "execute_result"
    }
   ],
   "source": [
    "model.fit(x_train, y_train,\n",
    "          epochs=20)"
   ]
  },
  {
   "cell_type": "markdown",
   "metadata": {},
   "source": [
    "### Analyze Metrics and Accuracy"
   ]
  },
  {
   "cell_type": "code",
   "execution_count": 11,
   "metadata": {},
   "outputs": [
    {
     "name": "stdout",
     "output_type": "stream",
     "text": [
      "Class prediction based on a dataset \n",
      "Predicted class: [1.] - Actual Class:1 - Correct Prediction: [ True]\n",
      "0\n",
      "Predicted class: [1.] - Actual Class:1 - Correct Prediction: [ True]\n",
      "1\n",
      "Predicted class: [1.] - Actual Class:1 - Correct Prediction: [ True]\n",
      "2\n",
      "Predicted class: [1.] - Actual Class:1 - Correct Prediction: [ True]\n",
      "3\n",
      "Predicted class: [1.] - Actual Class:1 - Correct Prediction: [ True]\n",
      "4\n",
      "Predicted class: [1.] - Actual Class:1 - Correct Prediction: [ True]\n",
      "5\n",
      "Predicted class: [1.] - Actual Class:1 - Correct Prediction: [ True]\n",
      "6\n",
      "Predicted class: [1.] - Actual Class:1 - Correct Prediction: [ True]\n",
      "7\n",
      "Predicted class: [1.] - Actual Class:1 - Correct Prediction: [ True]\n",
      "8\n",
      "Predicted class: [1.] - Actual Class:1 - Correct Prediction: [ True]\n",
      "9\n",
      "Predicted class: [1.] - Actual Class:1 - Correct Prediction: [ True]\n",
      "10\n",
      "Predicted class: [1.] - Actual Class:1 - Correct Prediction: [ True]\n",
      "11\n",
      "Predicted class: [1.] - Actual Class:1 - Correct Prediction: [ True]\n",
      "12\n",
      "Predicted class: [1.] - Actual Class:1 - Correct Prediction: [ True]\n",
      "13\n",
      "Predicted class: [1.] - Actual Class:1 - Correct Prediction: [ True]\n",
      "14\n",
      "Predicted class: [1.] - Actual Class:1 - Correct Prediction: [ True]\n",
      "15\n",
      "Predicted class: [1.] - Actual Class:1 - Correct Prediction: [ True]\n",
      "16\n",
      "Predicted class: [1.] - Actual Class:1 - Correct Prediction: [ True]\n",
      "17\n",
      "Predicted class: [1.] - Actual Class:1 - Correct Prediction: [ True]\n",
      "18\n",
      "Predicted class: [1.] - Actual Class:1 - Correct Prediction: [ True]\n",
      "19\n",
      "Predicted class: [1.] - Actual Class:1 - Correct Prediction: [ True]\n",
      "20\n",
      "Predicted class: [1.] - Actual Class:1 - Correct Prediction: [ True]\n",
      "21\n",
      "Predicted class: [1.] - Actual Class:1 - Correct Prediction: [ True]\n",
      "22\n",
      "Predicted class: [1.] - Actual Class:1 - Correct Prediction: [ True]\n",
      "23\n",
      "Predicted class: [1.] - Actual Class:1 - Correct Prediction: [ True]\n",
      "24\n",
      "Predicted class: [1.] - Actual Class:1 - Correct Prediction: [ True]\n",
      "25\n",
      "Predicted class: [1.] - Actual Class:1 - Correct Prediction: [ True]\n",
      "26\n",
      "Predicted class: [1.] - Actual Class:1 - Correct Prediction: [ True]\n",
      "27\n",
      "Predicted class: [1.] - Actual Class:1 - Correct Prediction: [ True]\n",
      "28\n",
      "Predicted class: [1.] - Actual Class:1 - Correct Prediction: [ True]\n",
      "29\n",
      "Predicted class: [1.] - Actual Class:1 - Correct Prediction: [ True]\n",
      "30\n",
      "Predicted class: [1.] - Actual Class:1 - Correct Prediction: [ True]\n",
      "31\n",
      "Predicted class: [1.] - Actual Class:1 - Correct Prediction: [ True]\n",
      "32\n",
      "Predicted class: [1.] - Actual Class:1 - Correct Prediction: [ True]\n",
      "33\n",
      "Predicted class: [1.] - Actual Class:1 - Correct Prediction: [ True]\n",
      "34\n",
      "Predicted class: [1.] - Actual Class:1 - Correct Prediction: [ True]\n",
      "35\n",
      "Predicted class: [1.] - Actual Class:1 - Correct Prediction: [ True]\n",
      "36\n",
      "Predicted class: [1.] - Actual Class:1 - Correct Prediction: [ True]\n",
      "37\n",
      "Predicted class: [1.] - Actual Class:1 - Correct Prediction: [ True]\n",
      "38\n",
      "Predicted class: [1.] - Actual Class:1 - Correct Prediction: [ True]\n",
      "39\n",
      "Predicted class: [1.] - Actual Class:1 - Correct Prediction: [ True]\n",
      "40\n",
      "Predicted class: [1.] - Actual Class:1 - Correct Prediction: [ True]\n",
      "41\n",
      "Predicted class: [1.] - Actual Class:1 - Correct Prediction: [ True]\n",
      "42\n",
      "Predicted class: [1.] - Actual Class:1 - Correct Prediction: [ True]\n",
      "43\n",
      "Predicted class: [1.] - Actual Class:1 - Correct Prediction: [ True]\n",
      "44\n",
      "Predicted class: [1.] - Actual Class:1 - Correct Prediction: [ True]\n",
      "45\n",
      "Predicted class: [1.] - Actual Class:1 - Correct Prediction: [ True]\n",
      "46\n",
      "Predicted class: [1.] - Actual Class:1 - Correct Prediction: [ True]\n",
      "47\n",
      "Predicted class: [1.] - Actual Class:1 - Correct Prediction: [ True]\n",
      "48\n",
      "Predicted class: [1.] - Actual Class:1 - Correct Prediction: [ True]\n",
      "49\n",
      "Predicted class: [2.] - Actual Class:2 - Correct Prediction: [ True]\n",
      "50\n",
      "Predicted class: [2.] - Actual Class:2 - Correct Prediction: [ True]\n",
      "51\n",
      "Predicted class: [2.] - Actual Class:2 - Correct Prediction: [ True]\n",
      "52\n",
      "Predicted class: [2.] - Actual Class:2 - Correct Prediction: [ True]\n",
      "53\n",
      "Predicted class: [2.] - Actual Class:2 - Correct Prediction: [ True]\n",
      "54\n",
      "Predicted class: [2.] - Actual Class:2 - Correct Prediction: [ True]\n",
      "55\n",
      "Predicted class: [2.] - Actual Class:2 - Correct Prediction: [ True]\n",
      "56\n",
      "Predicted class: [2.] - Actual Class:2 - Correct Prediction: [ True]\n",
      "57\n",
      "Predicted class: [2.] - Actual Class:2 - Correct Prediction: [ True]\n",
      "58\n",
      "Predicted class: [2.] - Actual Class:2 - Correct Prediction: [ True]\n",
      "59\n",
      "Predicted class: [2.] - Actual Class:2 - Correct Prediction: [ True]\n",
      "60\n",
      "Predicted class: [2.] - Actual Class:2 - Correct Prediction: [ True]\n",
      "61\n",
      "Predicted class: [2.] - Actual Class:2 - Correct Prediction: [ True]\n",
      "62\n",
      "Predicted class: [2.] - Actual Class:2 - Correct Prediction: [ True]\n",
      "63\n",
      "Predicted class: [2.] - Actual Class:2 - Correct Prediction: [ True]\n",
      "64\n",
      "Predicted class: [2.] - Actual Class:2 - Correct Prediction: [ True]\n",
      "65\n",
      "Predicted class: [2.] - Actual Class:2 - Correct Prediction: [ True]\n",
      "66\n",
      "Predicted class: [2.] - Actual Class:2 - Correct Prediction: [ True]\n",
      "67\n",
      "Predicted class: [2.] - Actual Class:2 - Correct Prediction: [ True]\n",
      "68\n",
      "Predicted class: [2.] - Actual Class:2 - Correct Prediction: [ True]\n",
      "69\n",
      "Predicted class: [3.] - Actual Class:2 - Correct Prediction: [False]\n",
      "70\n",
      "Predicted class: [2.] - Actual Class:2 - Correct Prediction: [ True]\n",
      "71\n",
      "Predicted class: [2.] - Actual Class:2 - Correct Prediction: [ True]\n",
      "72\n",
      "Predicted class: [2.] - Actual Class:2 - Correct Prediction: [ True]\n",
      "73\n",
      "Predicted class: [2.] - Actual Class:2 - Correct Prediction: [ True]\n",
      "74\n",
      "Predicted class: [2.] - Actual Class:2 - Correct Prediction: [ True]\n",
      "75\n",
      "Predicted class: [2.] - Actual Class:2 - Correct Prediction: [ True]\n",
      "76\n",
      "Predicted class: [3.] - Actual Class:2 - Correct Prediction: [False]\n",
      "77\n",
      "Predicted class: [2.] - Actual Class:2 - Correct Prediction: [ True]\n",
      "78\n",
      "Predicted class: [2.] - Actual Class:2 - Correct Prediction: [ True]\n",
      "79\n",
      "Predicted class: [2.] - Actual Class:2 - Correct Prediction: [ True]\n",
      "80\n",
      "Predicted class: [2.] - Actual Class:2 - Correct Prediction: [ True]\n",
      "81\n",
      "Predicted class: [2.] - Actual Class:2 - Correct Prediction: [ True]\n",
      "82\n",
      "Predicted class: [3.] - Actual Class:2 - Correct Prediction: [False]\n",
      "83\n",
      "Predicted class: [2.] - Actual Class:2 - Correct Prediction: [ True]\n",
      "84\n",
      "Predicted class: [2.] - Actual Class:2 - Correct Prediction: [ True]\n",
      "85\n",
      "Predicted class: [2.] - Actual Class:2 - Correct Prediction: [ True]\n",
      "86\n",
      "Predicted class: [2.] - Actual Class:2 - Correct Prediction: [ True]\n",
      "87\n",
      "Predicted class: [2.] - Actual Class:2 - Correct Prediction: [ True]\n",
      "88\n",
      "Predicted class: [2.] - Actual Class:2 - Correct Prediction: [ True]\n",
      "89\n",
      "Predicted class: [2.] - Actual Class:2 - Correct Prediction: [ True]\n",
      "90\n",
      "Predicted class: [2.] - Actual Class:2 - Correct Prediction: [ True]\n",
      "91\n",
      "Predicted class: [2.] - Actual Class:2 - Correct Prediction: [ True]\n",
      "92\n",
      "Predicted class: [2.] - Actual Class:2 - Correct Prediction: [ True]\n",
      "93\n",
      "Predicted class: [2.] - Actual Class:2 - Correct Prediction: [ True]\n",
      "94\n",
      "Predicted class: [2.] - Actual Class:2 - Correct Prediction: [ True]\n",
      "95\n",
      "Predicted class: [2.] - Actual Class:2 - Correct Prediction: [ True]\n",
      "96\n",
      "Predicted class: [2.] - Actual Class:2 - Correct Prediction: [ True]\n",
      "97\n",
      "Predicted class: [2.] - Actual Class:2 - Correct Prediction: [ True]\n",
      "98\n",
      "Predicted class: [2.] - Actual Class:2 - Correct Prediction: [ True]\n",
      "99\n",
      "Predicted class: [3.] - Actual Class:3 - Correct Prediction: [ True]\n",
      "100\n",
      "Predicted class: [3.] - Actual Class:3 - Correct Prediction: [ True]\n",
      "101\n",
      "Predicted class: [3.] - Actual Class:3 - Correct Prediction: [ True]\n",
      "102\n",
      "Predicted class: [3.] - Actual Class:3 - Correct Prediction: [ True]\n",
      "103\n",
      "Predicted class: [3.] - Actual Class:3 - Correct Prediction: [ True]\n",
      "104\n",
      "Predicted class: [3.] - Actual Class:3 - Correct Prediction: [ True]\n",
      "105\n",
      "Predicted class: [2.] - Actual Class:3 - Correct Prediction: [False]\n",
      "106\n",
      "Predicted class: [3.] - Actual Class:3 - Correct Prediction: [ True]\n",
      "107\n",
      "Predicted class: [3.] - Actual Class:3 - Correct Prediction: [ True]\n",
      "108\n",
      "Predicted class: [3.] - Actual Class:3 - Correct Prediction: [ True]\n",
      "109\n",
      "Predicted class: [3.] - Actual Class:3 - Correct Prediction: [ True]\n",
      "110\n",
      "Predicted class: [3.] - Actual Class:3 - Correct Prediction: [ True]\n",
      "111\n",
      "Predicted class: [3.] - Actual Class:3 - Correct Prediction: [ True]\n",
      "112\n",
      "Predicted class: [3.] - Actual Class:3 - Correct Prediction: [ True]\n",
      "113\n",
      "Predicted class: [3.] - Actual Class:3 - Correct Prediction: [ True]\n",
      "114\n",
      "Predicted class: [3.] - Actual Class:3 - Correct Prediction: [ True]\n",
      "115\n",
      "Predicted class: [3.] - Actual Class:3 - Correct Prediction: [ True]\n",
      "116\n",
      "Predicted class: [3.] - Actual Class:3 - Correct Prediction: [ True]\n",
      "117\n",
      "Predicted class: [3.] - Actual Class:3 - Correct Prediction: [ True]\n",
      "118\n",
      "Predicted class: [2.] - Actual Class:3 - Correct Prediction: [False]\n",
      "119\n",
      "Predicted class: [3.] - Actual Class:3 - Correct Prediction: [ True]\n",
      "120\n",
      "Predicted class: [3.] - Actual Class:3 - Correct Prediction: [ True]\n",
      "121\n",
      "Predicted class: [3.] - Actual Class:3 - Correct Prediction: [ True]\n",
      "122\n",
      "Predicted class: [3.] - Actual Class:3 - Correct Prediction: [ True]\n",
      "123\n",
      "Predicted class: [3.] - Actual Class:3 - Correct Prediction: [ True]\n",
      "124\n",
      "Predicted class: [3.] - Actual Class:3 - Correct Prediction: [ True]\n",
      "125\n",
      "Predicted class: [3.] - Actual Class:3 - Correct Prediction: [ True]\n",
      "126\n",
      "Predicted class: [3.] - Actual Class:3 - Correct Prediction: [ True]\n",
      "127\n",
      "Predicted class: [3.] - Actual Class:3 - Correct Prediction: [ True]\n",
      "128\n",
      "Predicted class: [3.] - Actual Class:3 - Correct Prediction: [ True]\n",
      "129\n",
      "Predicted class: [3.] - Actual Class:3 - Correct Prediction: [ True]\n",
      "130\n",
      "Predicted class: [3.] - Actual Class:3 - Correct Prediction: [ True]\n",
      "131\n",
      "Predicted class: [3.] - Actual Class:3 - Correct Prediction: [ True]\n",
      "132\n",
      "Predicted class: [3.] - Actual Class:3 - Correct Prediction: [ True]\n",
      "133\n",
      "Predicted class: [3.] - Actual Class:3 - Correct Prediction: [ True]\n",
      "134\n",
      "Predicted class: [3.] - Actual Class:3 - Correct Prediction: [ True]\n",
      "135\n",
      "Predicted class: [3.] - Actual Class:3 - Correct Prediction: [ True]\n",
      "136\n",
      "Predicted class: [3.] - Actual Class:3 - Correct Prediction: [ True]\n",
      "137\n",
      "Predicted class: [3.] - Actual Class:3 - Correct Prediction: [ True]\n",
      "138\n",
      "Predicted class: [3.] - Actual Class:3 - Correct Prediction: [ True]\n",
      "139\n",
      "Predicted class: [3.] - Actual Class:3 - Correct Prediction: [ True]\n",
      "140\n",
      "Predicted class: [3.] - Actual Class:3 - Correct Prediction: [ True]\n",
      "141\n",
      "Predicted class: [3.] - Actual Class:3 - Correct Prediction: [ True]\n",
      "142\n",
      "Predicted class: [3.] - Actual Class:3 - Correct Prediction: [ True]\n",
      "143\n",
      "Predicted class: [3.] - Actual Class:3 - Correct Prediction: [ True]\n",
      "144\n",
      "Predicted class: [3.] - Actual Class:3 - Correct Prediction: [ True]\n",
      "145\n",
      "Predicted class: [3.] - Actual Class:3 - Correct Prediction: [ True]\n",
      "146\n",
      "Predicted class: [3.] - Actual Class:3 - Correct Prediction: [ True]\n",
      "147\n",
      "Predicted class: [3.] - Actual Class:3 - Correct Prediction: [ True]\n",
      "148\n",
      "Predicted class: [3.] - Actual Class:3 - Correct Prediction: [ True]\n",
      "149\n",
      "Failed predictions: 5\n"
     ]
    }
   ],
   "source": [
    "prediction = model.predict(x_train)\n",
    "prediction = np.round_(prediction)\n",
    "\n",
    "actual = y_train['species_num']\n",
    "\n",
    "fail_counter = 0\n",
    "\n",
    "print(\"Class prediction based on a dataset \")\n",
    "for i in range(len(prediction)):\n",
    "    print(\"Predicted class: \" + str(prediction[i]) + ' - Actual Class:' + str(actual[i]) + ' - Correct Prediction: ' + str(prediction[i] == actual[i]))\n",
    "    if prediction[i] != actual[i]:\n",
    "        fail_counter += 1\n",
    "    print(i)\n",
    "    \n",
    "print(\"Failed predictions: \" + str(fail_counter))"
   ]
  },
  {
   "cell_type": "code",
   "execution_count": null,
   "metadata": {},
   "outputs": [],
   "source": []
  }
 ],
 "metadata": {
  "kernelspec": {
   "display_name": "Python 2",
   "language": "python",
   "name": "python2"
  },
  "language_info": {
   "codemirror_mode": {
    "name": "ipython",
    "version": 2
   },
   "file_extension": ".py",
   "mimetype": "text/x-python",
   "name": "python",
   "nbconvert_exporter": "python",
   "pygments_lexer": "ipython2",
   "version": "2.7.15"
  }
 },
 "nbformat": 4,
 "nbformat_minor": 2
}
