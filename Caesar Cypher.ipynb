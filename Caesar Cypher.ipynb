{
 "cells": [
  {
   "cell_type": "code",
   "execution_count": 33,
   "metadata": {
    "scrolled": true
   },
   "outputs": [
    {
     "ename": "SyntaxError",
     "evalue": "invalid syntax (<ipython-input-33-4e36813bca09>, line 16)",
     "output_type": "error",
     "traceback": [
      "\u001b[0;36m  File \u001b[0;32m\"<ipython-input-33-4e36813bca09>\"\u001b[0;36m, line \u001b[0;32m16\u001b[0m\n\u001b[0;31m    for i in message):\u001b[0m\n\u001b[0m                    ^\u001b[0m\n\u001b[0;31mSyntaxError\u001b[0m\u001b[0;31m:\u001b[0m invalid syntax\n"
     ]
    }
   ],
   "source": [
    "#this will apply any caesar cypher to any message the user inputs\n",
    "#find value of specified character\n",
    "#add rotation value\n",
    "#find new value\n",
    "alphaNum = {\"1\" : \"a\", \"2\" : \"b\", \"3\" : \"c\", \"4\" : \"d\", \"5\" : \"e\", \"6\" : \"f\", \"7\" : \"g\", \"8\" : \"h\", \"9\" : \"i\",\n",
    "         \"10\" : \"j\", \"11\" : \"k\", \"12\" : \"l\", \"13\" : \"m\", \"14\" : \"n\", \"15\" : \"o\", \"16\" : \"p\", \"17\" : \"q\", \"18\" : \"r\",\n",
    "         \"19\" : \"s\", \"20\" : \"t\", \"21\" : \"u\", \"22\" : \"v\", \"23\" : \"w\", \"24\" : \"x\", \"25\" : \"y\", \"26\" : \"z\"}\n",
    "mutAlpha = {\"1\" : \"a\", \"2\" : \"b\", \"3\" : \"c\", \"4\" : \"d\", \"5\" : \"e\", \"6\" : \"f\", \"7\" : \"g\", \"8\" : \"h\", \"9\" : \"i\",\n",
    "         \"10\" : \"j\", \"11\" : \"k\", \"12\" : \"l\", \"13\" : \"m\", \"14\" : \"n\", \"15\" : \"o\", \"16\" : \"p\", \"17\" : \"q\", \"18\" : \"r\",\n",
    "         \"19\" : \"s\", \"20\" : \"t\", \"21\" : \"u\", \"22\" : \"v\", \"23\" : \"w\", \"24\" : \"x\", \"25\" : \"y\", \"26\" : \"z\"}\n",
    "\n",
    "\n",
    "def encoder (message, shiftNum):\n",
    "    encoded = \"\"\n",
    "    messageList = []\n",
    "    for i in message):\n",
    "        messageList.append(i)\n",
    "        print message[i]\n",
    "    print messageList\n",
    "    return encoded\n",
    "\n",
    "encoder(\"apple\", 5)"
   ]
  },
  {
   "cell_type": "code",
   "execution_count": null,
   "metadata": {},
   "outputs": [],
   "source": []
  }
 ],
 "metadata": {
  "kernelspec": {
   "display_name": "Python 2",
   "language": "python",
   "name": "python2"
  },
  "language_info": {
   "codemirror_mode": {
    "name": "ipython",
    "version": 2
   },
   "file_extension": ".py",
   "mimetype": "text/x-python",
   "name": "python",
   "nbconvert_exporter": "python",
   "pygments_lexer": "ipython2",
   "version": "2.7.15"
  }
 },
 "nbformat": 4,
 "nbformat_minor": 2
}
